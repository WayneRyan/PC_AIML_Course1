{
 "cells": [
  {
   "cell_type": "code",
   "execution_count": 1,
   "id": "d95a256d-0291-4c33-bde9-21f5072a904f",
   "metadata": {},
   "outputs": [],
   "source": [
    "import numpy as np"
   ]
  },
  {
   "cell_type": "code",
   "execution_count": 3,
   "id": "f2eddbe4-8d99-47d5-950c-9986a2f8456b",
   "metadata": {},
   "outputs": [
    {
     "data": {
      "text/plain": [
       "array(24)"
      ]
     },
     "execution_count": 3,
     "metadata": {},
     "output_type": "execute_result"
    }
   ],
   "source": [
    "junk = np.array(24)\n",
    "junk"
   ]
  },
  {
   "cell_type": "code",
   "execution_count": 4,
   "id": "d286efad-bc49-4c42-9abc-c081a54de542",
   "metadata": {},
   "outputs": [
    {
     "data": {
      "text/plain": [
       "array([1, 2, 3, 4])"
      ]
     },
     "execution_count": 4,
     "metadata": {},
     "output_type": "execute_result"
    }
   ],
   "source": [
    "np.array([1,2,3,4])"
   ]
  },
  {
   "cell_type": "code",
   "execution_count": 6,
   "id": "73cd96ce-0808-4149-b71d-b25494f5c258",
   "metadata": {},
   "outputs": [
    {
     "data": {
      "text/plain": [
       "array([[1, 1, 1],\n",
       "       [1, 2, 1]])"
      ]
     },
     "execution_count": 6,
     "metadata": {},
     "output_type": "execute_result"
    }
   ],
   "source": [
    "np.array([[1,1,1],[1,2,1]])"
   ]
  },
  {
   "cell_type": "code",
   "execution_count": 8,
   "id": "4bd7753d-dc88-47fb-a90b-2b3ab448e7d8",
   "metadata": {},
   "outputs": [],
   "source": [
    "junk = np.array([[1,1,1],[1,2,1]])"
   ]
  },
  {
   "cell_type": "code",
   "execution_count": 13,
   "id": "e710845f-9f7c-4abe-8ef8-45e338d71e26",
   "metadata": {},
   "outputs": [],
   "source": [
    "numpy_arr = np.array([x for x in range(1,13)])"
   ]
  },
  {
   "cell_type": "code",
   "execution_count": 14,
   "id": "4ac1ec3c-a8eb-4623-a632-efa84526e446",
   "metadata": {},
   "outputs": [
    {
     "data": {
      "text/plain": [
       "array([ 1,  2,  3,  4,  5,  6,  7,  8,  9, 10, 11, 12])"
      ]
     },
     "execution_count": 14,
     "metadata": {},
     "output_type": "execute_result"
    }
   ],
   "source": [
    "numpy_arr"
   ]
  },
  {
   "cell_type": "code",
   "execution_count": 15,
   "id": "462f5ba1-2f2c-4548-aad1-422abcdf1b52",
   "metadata": {},
   "outputs": [
    {
     "data": {
      "text/plain": [
       "array([[[ 1,  2,  3],\n",
       "        [ 4,  5,  6]],\n",
       "\n",
       "       [[ 7,  8,  9],\n",
       "        [10, 11, 12]]])"
      ]
     },
     "execution_count": 15,
     "metadata": {},
     "output_type": "execute_result"
    }
   ],
   "source": [
    "numpy_arr.reshape(2,2,3)"
   ]
  },
  {
   "cell_type": "code",
   "execution_count": 17,
   "id": "ad9153f7-7cdd-42c1-940a-83f8523221c8",
   "metadata": {},
   "outputs": [],
   "source": [
    "numpy_arr = numpy_arr.reshape(2,2,-1)"
   ]
  },
  {
   "cell_type": "code",
   "execution_count": 18,
   "id": "87c1c767-8348-4491-82a4-367456812583",
   "metadata": {},
   "outputs": [
    {
     "data": {
      "text/plain": [
       "array([[[ 1,  2,  3],\n",
       "        [ 4,  5,  6]],\n",
       "\n",
       "       [[ 7,  8,  9],\n",
       "        [10, 11, 12]]])"
      ]
     },
     "execution_count": 18,
     "metadata": {},
     "output_type": "execute_result"
    }
   ],
   "source": [
    "numpy_arr"
   ]
  },
  {
   "cell_type": "code",
   "execution_count": 19,
   "id": "b7c9a957-db63-47ad-be90-10dcf8b5ea0a",
   "metadata": {},
   "outputs": [
    {
     "data": {
      "text/plain": [
       "array([ 1,  2,  3,  4,  5,  6,  7,  8,  9, 10, 11, 12])"
      ]
     },
     "execution_count": 19,
     "metadata": {},
     "output_type": "execute_result"
    }
   ],
   "source": [
    "numpy_arr.reshape(-1)"
   ]
  },
  {
   "cell_type": "code",
   "execution_count": 20,
   "id": "618d46d8-0e68-4323-b691-cc8d063e0c57",
   "metadata": {},
   "outputs": [],
   "source": [
    "A = np.array([[1,2,1],[2,2,3]])\n",
    "B = np.array([3,4,5])"
   ]
  },
  {
   "cell_type": "code",
   "execution_count": 22,
   "id": "63e01b3c-2bf7-4f86-8ce2-d62196b1cce4",
   "metadata": {},
   "outputs": [
    {
     "data": {
      "text/plain": [
       "array([[4, 6, 6],\n",
       "       [5, 6, 8]])"
      ]
     },
     "execution_count": 22,
     "metadata": {},
     "output_type": "execute_result"
    }
   ],
   "source": [
    "np.add(A,B)"
   ]
  },
  {
   "cell_type": "code",
   "execution_count": 28,
   "id": "1b094935-ecbf-4fcf-ab4e-7193e9e0872a",
   "metadata": {},
   "outputs": [
    {
     "data": {
      "text/plain": [
       "array([[  3,  16,   5],\n",
       "       [  9,  16, 125]])"
      ]
     },
     "execution_count": 28,
     "metadata": {},
     "output_type": "execute_result"
    }
   ],
   "source": [
    "B ** A\n"
   ]
  },
  {
   "cell_type": "code",
   "execution_count": 29,
   "id": "1b6e49c9-71fd-403e-90e9-f3162f0dd747",
   "metadata": {},
   "outputs": [],
   "source": [
    "x = np.array([i for i in range(10)])"
   ]
  },
  {
   "cell_type": "code",
   "execution_count": 32,
   "id": "a703883a-ade0-4fc1-86d7-1c6a142faca1",
   "metadata": {},
   "outputs": [
    {
     "data": {
      "text/plain": [
       "array(['Even', 'Odd', 'Even', 'Odd', 'Even', 'Odd', 'Even', 'Odd', 'Even',\n",
       "       'Odd'], dtype='<U4')"
      ]
     },
     "execution_count": 32,
     "metadata": {},
     "output_type": "execute_result"
    }
   ],
   "source": [
    "np.where(x%2==0, 'Even', 'Odd')"
   ]
  },
  {
   "cell_type": "code",
   "execution_count": 33,
   "id": "045124a9-a0e7-444c-b5f6-0540534e64de",
   "metadata": {},
   "outputs": [],
   "source": [
    "condlist = [x<5,x>5]"
   ]
  },
  {
   "cell_type": "code",
   "execution_count": 34,
   "id": "73a7e800-4105-433b-8078-20da3f0cd8dc",
   "metadata": {},
   "outputs": [],
   "source": [
    "choicelist = [x**2,x**3]"
   ]
  },
  {
   "cell_type": "code",
   "execution_count": 36,
   "id": "57cdb25c-aa7e-4eb3-acf4-bfe6c236df3f",
   "metadata": {},
   "outputs": [
    {
     "data": {
      "text/plain": [
       "array([  0,   1,   4,   9,  16,   5, 216, 343, 512, 729])"
      ]
     },
     "execution_count": 36,
     "metadata": {},
     "output_type": "execute_result"
    }
   ],
   "source": [
    "np.select(condlist,choicelist,x)"
   ]
  },
  {
   "cell_type": "code",
   "execution_count": 37,
   "id": "227cca48-a6e7-49f1-baa0-a1b842713ad4",
   "metadata": {},
   "outputs": [],
   "source": [
    "arr = np.array([[4,3,2],[10,1,0],[5,8,24]])"
   ]
  },
  {
   "cell_type": "code",
   "execution_count": 41,
   "id": "4cec4ba6-6e4d-4f52-a2c2-6cd82c2a058f",
   "metadata": {},
   "outputs": [
    {
     "data": {
      "text/plain": [
       "array([[ 4,  3,  2],\n",
       "       [10,  1,  0],\n",
       "       [ 5,  8, 24]])"
      ]
     },
     "execution_count": 41,
     "metadata": {},
     "output_type": "execute_result"
    }
   ],
   "source": [
    "arr"
   ]
  },
  {
   "cell_type": "code",
   "execution_count": 43,
   "id": "f1eb79f2-96c2-4da0-8f74-7a7eec3f8c9d",
   "metadata": {},
   "outputs": [
    {
     "data": {
      "text/plain": [
       "0"
      ]
     },
     "execution_count": 43,
     "metadata": {},
     "output_type": "execute_result"
    }
   ],
   "source": [
    "np.amin(arr)"
   ]
  },
  {
   "cell_type": "code",
   "execution_count": 48,
   "id": "2ea223c7-287a-4a56-a185-3f913057d217",
   "metadata": {},
   "outputs": [
    {
     "data": {
      "text/plain": [
       "array([4, 1, 0])"
      ]
     },
     "execution_count": 48,
     "metadata": {},
     "output_type": "execute_result"
    }
   ],
   "source": [
    "np.amin(arr, axis=0)"
   ]
  },
  {
   "cell_type": "code",
   "execution_count": 52,
   "id": "1acec03b-9f0b-4cb3-aed6-d908666827ba",
   "metadata": {},
   "outputs": [
    {
     "data": {
      "text/plain": [
       "2.0"
      ]
     },
     "execution_count": 52,
     "metadata": {},
     "output_type": "execute_result"
    }
   ],
   "source": [
    "np.percentile(arr,25)"
   ]
  },
  {
   "cell_type": "code",
   "execution_count": 53,
   "id": "0a3e50ef-a4d7-4cc3-91dc-69baeaacc1ec",
   "metadata": {},
   "outputs": [],
   "source": [
    "array_2d = np.array([[1,2,3],[4,5,6]])"
   ]
  },
  {
   "cell_type": "code",
   "execution_count": 61,
   "id": "12cce15f-56d8-4845-bc5d-cc0646c6a7b4",
   "metadata": {},
   "outputs": [
    {
     "data": {
      "text/plain": [
       "array([[4, 5, 6],\n",
       "       [1, 2, 3]])"
      ]
     },
     "execution_count": 61,
     "metadata": {},
     "output_type": "execute_result"
    }
   ],
   "source": [
    "array_2d[-1:-3:-1]"
   ]
  },
  {
   "cell_type": "code",
   "execution_count": 62,
   "id": "524459b1-5684-4f1d-8a1a-4b5d9c487884",
   "metadata": {},
   "outputs": [],
   "source": [
    "import pandas as pd"
   ]
  },
  {
   "cell_type": "code",
   "execution_count": 63,
   "id": "5e621bc3-e0ab-474a-af74-d2b6ce74bd1b",
   "metadata": {},
   "outputs": [],
   "source": [
    "l = [x for x in range(5)]"
   ]
  },
  {
   "cell_type": "code",
   "execution_count": 64,
   "id": "36e550a0-5f64-4d21-8679-0acdaf2eee21",
   "metadata": {},
   "outputs": [],
   "source": [
    "s = pd.Series(l)"
   ]
  },
  {
   "cell_type": "code",
   "execution_count": 65,
   "id": "8660c727-59e2-4b21-a00e-5904d7b99552",
   "metadata": {},
   "outputs": [
    {
     "data": {
      "text/plain": [
       "0    0\n",
       "1    1\n",
       "2    2\n",
       "3    3\n",
       "4    4\n",
       "dtype: int64"
      ]
     },
     "execution_count": 65,
     "metadata": {},
     "output_type": "execute_result"
    }
   ],
   "source": [
    "s"
   ]
  },
  {
   "cell_type": "code",
   "execution_count": 66,
   "id": "fee49cca-7573-4d70-8f4f-3bb5417ed0cc",
   "metadata": {},
   "outputs": [
    {
     "data": {
      "text/plain": [
       "3"
      ]
     },
     "execution_count": 66,
     "metadata": {},
     "output_type": "execute_result"
    }
   ],
   "source": [
    "s[3]"
   ]
  },
  {
   "cell_type": "code",
   "execution_count": 67,
   "id": "95fa49fc-8a27-4e58-b382-3f9568811848",
   "metadata": {},
   "outputs": [],
   "source": [
    "s = pd.Series([x for x in range(1,11)])"
   ]
  },
  {
   "cell_type": "code",
   "execution_count": 68,
   "id": "d8871b68-d654-40ac-b61c-bd49c0b47c6f",
   "metadata": {},
   "outputs": [
    {
     "data": {
      "text/plain": [
       "0     1\n",
       "1     2\n",
       "2     3\n",
       "3     4\n",
       "4     5\n",
       "5     6\n",
       "6     7\n",
       "7     8\n",
       "8     9\n",
       "9    10\n",
       "dtype: int64"
      ]
     },
     "execution_count": 68,
     "metadata": {},
     "output_type": "execute_result"
    }
   ],
   "source": [
    "s"
   ]
  },
  {
   "cell_type": "code",
   "execution_count": 69,
   "id": "6135cfbf-6559-43d4-9e6e-2e88d0b0c962",
   "metadata": {},
   "outputs": [
    {
     "data": {
      "text/plain": [
       "1"
      ]
     },
     "execution_count": 69,
     "metadata": {},
     "output_type": "execute_result"
    }
   ],
   "source": [
    "s.iloc[0]"
   ]
  },
  {
   "cell_type": "code",
   "execution_count": 70,
   "id": "888bf44a-4453-4646-90c0-b29fbb61d527",
   "metadata": {},
   "outputs": [
    {
     "data": {
      "text/plain": [
       "0     NaN\n",
       "1     2.0\n",
       "2     NaN\n",
       "3     4.0\n",
       "4     NaN\n",
       "5     6.0\n",
       "6     NaN\n",
       "7     8.0\n",
       "8     NaN\n",
       "9    10.0\n",
       "dtype: float64"
      ]
     },
     "execution_count": 70,
     "metadata": {},
     "output_type": "execute_result"
    }
   ],
   "source": [
    "s.where(s%2==0)"
   ]
  },
  {
   "cell_type": "code",
   "execution_count": 71,
   "id": "b8bd9e35-70da-4933-b4ba-931074498fba",
   "metadata": {},
   "outputs": [
    {
     "data": {
      "text/plain": [
       "0    Odd Number\n",
       "1             2\n",
       "2    Odd Number\n",
       "3             4\n",
       "4    Odd Number\n",
       "5             6\n",
       "6    Odd Number\n",
       "7             8\n",
       "8    Odd Number\n",
       "9            10\n",
       "dtype: object"
      ]
     },
     "execution_count": 71,
     "metadata": {},
     "output_type": "execute_result"
    }
   ],
   "source": [
    "s.where(s%2==0,'Odd Number')"
   ]
  },
  {
   "cell_type": "code",
   "execution_count": 72,
   "id": "aa84b749-2806-4ef7-8eab-eb48e0ccad82",
   "metadata": {},
   "outputs": [
    {
     "data": {
      "text/plain": [
       "(array([1, 3, 5, 7, 9], dtype=int64),)"
      ]
     },
     "execution_count": 72,
     "metadata": {},
     "output_type": "execute_result"
    }
   ],
   "source": [
    "np.where(s%2==0)"
   ]
  }
 ],
 "metadata": {
  "kernelspec": {
   "display_name": "Python 3 (ipykernel)",
   "language": "python",
   "name": "python3"
  },
  "language_info": {
   "codemirror_mode": {
    "name": "ipython",
    "version": 3
   },
   "file_extension": ".py",
   "mimetype": "text/x-python",
   "name": "python",
   "nbconvert_exporter": "python",
   "pygments_lexer": "ipython3",
   "version": "3.10.9"
  }
 },
 "nbformat": 4,
 "nbformat_minor": 5
}
